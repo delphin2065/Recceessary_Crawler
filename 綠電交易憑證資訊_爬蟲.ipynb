{
 "cells": [
  {
   "cell_type": "markdown",
   "metadata": {},
   "source": [
    "### 綠電交易憑證資訊爬蟲"
   ]
  },
  {
   "cell_type": "code",
   "execution_count": 28,
   "metadata": {},
   "outputs": [],
   "source": [
    "import pandas as pd\n",
    "import numpy as np\n",
    "from selenium import webdriver\n",
    "from selenium.webdriver.common.by import By\n",
    "import requests\n",
    "import os\n",
    "import time\n",
    "from selenium.webdriver.common.keys import Keys"
   ]
  },
  {
   "cell_type": "markdown",
   "metadata": {},
   "source": [
    "### 執行爬蟲程式(Selenium 執行)"
   ]
  },
  {
   "cell_type": "code",
   "execution_count": 40,
   "metadata": {},
   "outputs": [],
   "source": [
    "filePath = os.path.join(os.getcwd(), 'chromedriver-win64\\chromedriver.exe')\n",
    "\n",
    "dfc = pd.DataFrame()\n",
    "for q in range(2020, 2026, 1):\n",
    "\n",
    "  url = \"https://www.trec.org.tw/certification_trade_situation/direct_supply?year=\" + str(q)\n",
    "  headers = {\n",
    "      'Accept': 'text/html,application/xhtml+xml,application/xml;q=0.9,image/avif,image/webp,image/apng,*/*;q=0.8,application/signed-exchange;v=b3;q=0.7',                 \n",
    "      'User-Agent': 'Mozilla/5.0 (Windows NT 10.0; Win64; x64) AppleWebKit/537.36 (KHTML, like Gecko) Chrome/133.0.0.0 Safari/537.36',                     \n",
    "  }\n",
    "  options = webdriver.ChromeOptions()    \n",
    "  for key, value in headers.items():\n",
    "      options.add_argument(key + '=' + value)\n",
    "\n",
    "  options.add_argument(\"--headless\") \n",
    "  driver = webdriver.Chrome(options=options)\n",
    "\n",
    "\n",
    "\n",
    "\n",
    "  driver.get(url)\n",
    "  driver.execute_script(\"window.scrollTo(0, document.body.scrollHeight)\")\n",
    "  driver.execute_script(\"window.scrollTo(0, 0)\")\n",
    "  time.sleep(1)\n",
    "\n",
    "  select_btn = driver.find_element(By.XPATH, '//*[@id=\"tradeTable_length\"]/label/div')\n",
    "  select_btn.click()\n",
    "  time.sleep(1)\n",
    "  opt = driver.find_element(By.XPATH, '//*[@id=\"tradeTable_length\"]/label/div/div[2]/div[4]')\n",
    "  opt.click()\n",
    "  time.sleep(5) \n",
    "  driver.execute_script(\"window.scrollTo(0, document.body.scrollHeight)\")\n",
    "  driver.execute_script(\"window.scrollTo(0, 0)\")\n",
    "  driver.execute_script(\"window.scrollTo(document.body.scrollWidth, 0);\")\n",
    "  driver.execute_script(\"window.scrollTo(0, 0)\")\n",
    "\n",
    "\n",
    "\n",
    "\n",
    "\n",
    "  \n",
    "\n",
    "  tab_rows = driver.find_elements(By.XPATH, '//*[@id=\"tradeTable\"]/tbody/tr')\n",
    "\n",
    "  colName = ['#', '出售單位 發電案場', '購買者', '憑證種類', '供電種類', '憑證張數', '詳情']\n",
    "  m = len(colName)\n",
    "\n",
    "  lst = []\n",
    "  for row in tab_rows:\n",
    "    tab_tds = row.find_elements(By.TAG_NAME, 'td')\n",
    "    td_lst = [i.text.replace('\\n', '') for i in tab_tds]\n",
    "    dd = {}\n",
    "    for j in range(m):\n",
    "      dd[colName[j]] = td_lst[j]\n",
    "\n",
    "    lst.append(dd)\n",
    "\n",
    "  \n",
    "\n",
    "  df = pd.DataFrame(lst)\n",
    "  df.insert(1, '年份', str(q))\n",
    "  dfc = pd.concat([dfc, df], axis=0)\n",
    "\n",
    "  # 關閉瀏覽器\n",
    "  driver.quit()\n",
    "\n",
    "\n"
   ]
  },
  {
   "cell_type": "markdown",
   "metadata": {},
   "source": [
    "### 匯出CSV資料格式"
   ]
  },
  {
   "cell_type": "code",
   "execution_count": 54,
   "metadata": {},
   "outputs": [
    {
     "name": "stdout",
     "output_type": "stream",
     "text": [
      "       年份                          出售單位 發電案場             購買者 憑證種類 供電種類   憑證張數  詳情\n",
      "960  2025    陽光伏特家電力股份有限公司聚眾能源股份有限公司(聚眾彰化1廠)      友達光電股份有限公司  太陽能   轉供      9  詳情\n",
      "961  2025    陽光伏特家電力股份有限公司聚眾能源股份有限公司(聚眾雲林2廠)      友達光電股份有限公司  太陽能   轉供     28  詳情\n",
      "962  2025    陽光伏特家電力股份有限公司日晶興業股份有限公司(日晶彰化2廠)      友達光電股份有限公司  太陽能   轉供     13  詳情\n",
      "963  2025  陽光伏特家電力股份有限公司日晶興業股份有限公司(日晶雲林2、3廠)      友達光電股份有限公司  太陽能   轉供     24  詳情\n",
      "964  2025               順長興企業股份有限公司(順長興嘉義1廠)      友達光電股份有限公司  太陽能   轉供    110  詳情\n",
      "965  2025              鹿威風力發電股份有限公司(鹿威-彰濱風場)  台灣積體電路製造股份有限公司  風力能   轉供  18067  詳情\n",
      "966  2025               鹿威風力發電股份有限公司(鹿港風場二期)  台灣積體電路製造股份有限公司  風力能   轉供   2586  詳情\n",
      "967  2025                龍威風力發電股份有限公司(龍威風場一)  台灣積體電路製造股份有限公司  風力能   轉供   7110  詳情\n",
      "968  2025                龍威風力發電股份有限公司(龍威風場二)  台灣積體電路製造股份有限公司  風力能   轉供   1402  詳情\n",
      "969  2025                龍威風力發電股份有限公司(龍威風場三)  台灣積體電路製造股份有限公司  風力能   轉供    705  詳情\n"
     ]
    }
   ],
   "source": [
    "dff = dfc.copy()\n",
    "del dff['#']\n",
    "dff.to_csv('綠電交易憑證資訊.csv', encoding='utf-8-sig', index=False)\n",
    "print(dff.tail(10).to_string())"
   ]
  },
  {
   "cell_type": "code",
   "execution_count": null,
   "metadata": {},
   "outputs": [],
   "source": []
  }
 ],
 "metadata": {
  "kernelspec": {
   "display_name": ".venv",
   "language": "python",
   "name": "python3"
  },
  "language_info": {
   "codemirror_mode": {
    "name": "ipython",
    "version": 3
   },
   "file_extension": ".py",
   "mimetype": "text/x-python",
   "name": "python",
   "nbconvert_exporter": "python",
   "pygments_lexer": "ipython3",
   "version": "3.10.11"
  }
 },
 "nbformat": 4,
 "nbformat_minor": 2
}
